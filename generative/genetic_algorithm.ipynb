{
  "nbformat": 4,
  "nbformat_minor": 0,
  "metadata": {
    "colab": {
      "provenance": []
    },
    "kernelspec": {
      "name": "python3",
      "display_name": "Python 3"
    },
    "language_info": {
      "name": "python"
    }
  },
  "cells": [
    {
      "cell_type": "code",
      "source": [],
      "metadata": {
        "id": "iwuCqW_Wi25e"
      },
      "execution_count": null,
      "outputs": []
    },
    {
      "cell_type": "code",
      "execution_count": null,
      "metadata": {
        "id": "5BzhiI6foY4i"
      },
      "outputs": [],
      "source": [
        "import jax.numpy as jnp\n",
        "import jax\n",
        "from jax import random\n",
        "from scipy.spatial import Delaunay\n",
        "import matplotlib.pyplot as plt\n",
        "import numpy as np\n",
        "import copy\n",
        "import random as rppy"
      ]
    },
    {
      "cell_type": "code",
      "execution_count": null,
      "metadata": {
        "colab": {
          "base_uri": "https://localhost:8080/",
          "height": 72
        },
        "id": "Yji0HyGj_dCf",
        "outputId": "7a61a0a0-c929-473b-a4f3-d42f3c32e9f9"
      },
      "outputs": [
        {
          "output_type": "execute_result",
          "data": {
            "text/plain": [
              "'\\n\\n\\nkey = random.PRNGKey(0)\\nnum_positions = 10\\nx_range = (0, 100)\\ny_range = (0, 100)\\nmin_distance = 5\\n\\npositions = generate_positions_jax(num_positions, x_range, y_range, min_distance, key)\\nprint(positions)\\n'"
            ],
            "application/vnd.google.colaboratory.intrinsic+json": {
              "type": "string"
            }
          },
          "metadata": {},
          "execution_count": 2
        }
      ],
      "source": [
        "import jax.numpy as jnp\n",
        "from jax import random\n",
        "\n",
        "def generate_positions_jax(num_positions, x_range, y_range, min_distance, key):\n",
        "    positions = []\n",
        "\n",
        "    def distance(p1, p2):\n",
        "        return jnp.sqrt((p1[0] - p2[0])**2 + (p1[1] - p2[1])**2)\n",
        "\n",
        "    def is_valid_position(new_position):\n",
        "        return all(distance(new_position, pos) >= min_distance for pos in positions)\n",
        "\n",
        "    while len(positions) < num_positions:\n",
        "        key, subkey_x, subkey_y = random.split(key, 3)\n",
        "\n",
        "        new_x = random.uniform(subkey_x, minval=x_range[0], maxval=x_range[1])\n",
        "        new_y = random.uniform(subkey_y, minval=y_range[0], maxval=y_range[1])\n",
        "\n",
        "        new_position = (new_x.item(), new_y.item())\n",
        "\n",
        "        if is_valid_position(new_position):\n",
        "            positions.append(new_position)\n",
        "\n",
        "    return positions\n"
      ]
    },
    {
      "cell_type": "code",
      "source": [
        "import numpy as np\n",
        "\n",
        "def calculate_poisson_ratio(initial_grid, deformed_grid, axis=0):\n",
        "    initial_length_axial = np.max(initial_grid[:, axis]) - np.min(initial_grid[:, axis])\n",
        "    deformed_length_axial = np.max(deformed_grid[:, axis]) - np.min(deformed_grid[:, axis])\n",
        "    axial_strain = (deformed_length_axial - initial_length_axial) / initial_length_axial\n",
        "    transverse_axis = 1 - axis  # if axis=0 (x-axis), transverse_axis=1 (y-axis) and vice versa\n",
        "    initial_length_transverse = np.max(initial_grid[:, transverse_axis]) - np.min(initial_grid[:, transverse_axis])\n",
        "    deformed_length_transverse = np.max(deformed_grid[:, transverse_axis]) - np.min(deformed_grid[:, transverse_axis])\n",
        "    transverse_strain = (deformed_length_transverse - initial_length_transverse) / initial_length_transverse\n",
        "    poisson_ratio = -transverse_strain / axial_strain\n",
        "    return poisson_ratio"
      ],
      "metadata": {
        "id": "DddPU-JaYkGK"
      },
      "execution_count": null,
      "outputs": []
    },
    {
      "cell_type": "code",
      "execution_count": null,
      "metadata": {
        "id": "hsut4EYYuUjf"
      },
      "outputs": [],
      "source": [
        "def create_triangulation_association_matrix(grid):\n",
        "    tri = Delaunay(grid)\n",
        "    num_points = grid.shape[0]\n",
        "    adj_matrix = jnp.zeros((num_points, num_points))\n",
        "    for simplex in tri.simplices:\n",
        "        for i in range(3):\n",
        "            for j in range(i + 1, 3):\n",
        "                p1, p2 = simplex[i], simplex[j]\n",
        "                adj_matrix = adj_matrix.at[p1, p2].set(1)\n",
        "                adj_matrix = adj_matrix.at[p2, p1].set(1)\n",
        "    return adj_matrix"
      ]
    },
    {
      "cell_type": "code",
      "execution_count": null,
      "metadata": {
        "id": "fAyY6XkDrdzB"
      },
      "outputs": [],
      "source": [
        "def display_grid_with_bonds(grid, adj_matrix):\n",
        "    x, y = grid[:, 0], grid[:, 1]\n",
        "    plt.scatter(x, y, c='blue', marker='o', zorder=5)\n",
        "    num_points = grid.shape[0]\n",
        "    for i in range(num_points):\n",
        "        for j in range(i + 1, num_points):\n",
        "            if adj_matrix[i, j] == 1:\n",
        "                plt.plot([grid[i, 0], grid[j, 0]], [grid[i, 1], grid[j, 1]], 'k-', zorder=1)\n",
        "    plt.gca().set_aspect('equal', adjustable='box')\n",
        "    plt.xlabel('X')\n",
        "    plt.ylabel('Y')\n",
        "    plt.title('Grid of Points with Bonds')\n",
        "    plt.grid(True)\n",
        "    plt.show()"
      ]
    },
    {
      "cell_type": "code",
      "execution_count": null,
      "metadata": {
        "id": "2TXmKdebzOfy"
      },
      "outputs": [],
      "source": [
        "import jax\n",
        "import jax.numpy as jnp\n",
        "\n",
        "def remove_random_bonds(adj_matrix, num_bonds=20, seed=0):\n",
        "    assert (adj_matrix == adj_matrix.T).all(), \"adjacency matrix must be symmetric\"\n",
        "    key = jax.random.PRNGKey(seed)\n",
        "    non_zero_indices = jnp.array(jnp.triu(adj_matrix).nonzero()).T\n",
        "    chosen_indices = jax.random.choice(key, len(non_zero_indices), (min(num_bonds, len(non_zero_indices)),), replace=False)\n",
        "    indices_to_remove = non_zero_indices[chosen_indices]\n",
        "    for (i, j) in indices_to_remove:\n",
        "        adj_matrix = adj_matrix.at[i, j].set(0)\n",
        "        adj_matrix = adj_matrix.at[j, i].set(0)\n",
        "\n",
        "    return adj_matrix\n",
        "\n"
      ]
    },
    {
      "cell_type": "code",
      "execution_count": null,
      "metadata": {
        "id": "U1tYfpoK_HRM"
      },
      "outputs": [],
      "source": [
        "def spring_force(pos1, pos2, rest_length, k=1.0):\n",
        "    displacement = pos2 - pos1\n",
        "    distance = jnp.linalg.norm(displacement)\n",
        "    direction = displacement / (distance + 1e-8)\n",
        "    force_magnitude = -k * (distance - rest_length)\n",
        "    return force_magnitude * direction\n",
        "\n",
        "def angular_spring_force(p1, p2, p3, rest_angle, k=1.0):\n",
        "    v1 = p1 - p2\n",
        "    v2 = p3 - p2\n",
        "    angle = jnp.arctan2(jnp.linalg.norm(jnp.cross(v1, v2)), jnp.dot(v1, v2))\n",
        "    angle_difference = angle - rest_angle\n",
        "    return -k * angle_difference"
      ]
    },
    {
      "cell_type": "code",
      "execution_count": null,
      "metadata": {
        "id": "OXaPgmpOAPpL"
      },
      "outputs": [],
      "source": [
        "import jax.numpy as jnp\n",
        "\n",
        "def calculate_initial_lengths_and_angles(grid, adj_matrix):\n",
        "    num_points = grid.shape[0]\n",
        "    rest_lengths = jnp.zeros_like(adj_matrix, dtype=float)\n",
        "    rest_angles = {}\n",
        "\n",
        "    for i in range(num_points):\n",
        "        for j in range(i + 1, num_points):\n",
        "            if adj_matrix[i, j] == 1:\n",
        "                dist = jnp.linalg.norm(grid[i] - grid[j])\n",
        "                rest_lengths = rest_lengths.at[i, j].set(dist)\n",
        "                rest_lengths = rest_lengths.at[j, i].set(dist)\n",
        "\n",
        "    for i in range(num_points):\n",
        "        neighbors = jnp.where(adj_matrix[i] == 1)[0]\n",
        "        for j in range(len(neighbors)):\n",
        "            for k in range(j + 1, len(neighbors)):\n",
        "                neighbor1 = int(neighbors[j])\n",
        "                neighbor2 = int(neighbors[k])\n",
        "                v1 = grid[neighbor1] - grid[i]\n",
        "                v2 = grid[neighbor2] - grid[i]\n",
        "                angle = jnp.arccos(jnp.dot(v1, v2) / (jnp.linalg.norm(v1) * jnp.linalg.norm(v2)))\n",
        "                rest_angles[(i, neighbor1, neighbor2)] = angle\n",
        "\n",
        "    return rest_lengths, rest_angles\n",
        "\n",
        "def update_positions(grid, adj_matrix, fixed_indices, dt=0.01, num_iterations=100, k_spring=1.0, k_angle=0.1):\n",
        "    grid = grid.copy()\n",
        "    num_points = grid.shape[0]\n",
        "    rest_lengths, rest_angles = calculate_initial_lengths_and_angles(grid, adj_matrix)\n",
        "    for _ in range(num_iterations):\n",
        "        forces = jnp.zeros_like(grid)\n",
        "        for i in range(num_points):\n",
        "            for j in range(i + 1, num_points):\n",
        "                if adj_matrix[i, j] == 1:\n",
        "                    rest_length = rest_lengths[i, j]\n",
        "                    force = spring_force(grid[i], grid[j], rest_length, k_spring)\n",
        "                    forces = forces.at[i].add(force)\n",
        "                    forces = forces.at[j].add(-force)\n",
        "        for i in range(num_points):\n",
        "            neighbors = jnp.where(adj_matrix[i] == 1)[0]\n",
        "            for j in range(len(neighbors)):\n",
        "                for k in range(j + 1, len(neighbors)):\n",
        "                    neighbor1 = int(neighbors[j])\n",
        "                    neighbor2 = int(neighbors[k])\n",
        "                    rest_angle = rest_angles[(i, neighbor1, neighbor2)]\n",
        "                    angle_force = angular_spring_force(grid[neighbor1], grid[i], grid[neighbor2], rest_angle, k_angle)\n",
        "                    forces = forces.at[i].add(angle_force)\n",
        "\n",
        "        forces = forces.at[fixed_indices].set(0.0)\n",
        "        grid = grid + dt * forces\n",
        "\n",
        "    return grid\n"
      ]
    },
    {
      "cell_type": "code",
      "execution_count": null,
      "metadata": {
        "id": "t-xUoj7LjpjB"
      },
      "outputs": [],
      "source": [
        "import jax.numpy as jnp\n",
        "\n",
        "def update_positions_v3(grid, adj_matrix, fixed_indices, pulling_indices, dt=0.01, num_iterations=100, k_spring=1e9, k_angle=0.1, pulling_force=(-1.0, 0.0)):\n",
        "    grid = grid.copy()\n",
        "    num_points = grid.shape[0]\n",
        "    rest_lengths, rest_angles = calculate_initial_lengths_and_angles(grid, adj_matrix)\n",
        "    for _ in range(num_iterations):\n",
        "        forces = jnp.zeros_like(grid)\n",
        "        for index in pulling_indices:\n",
        "            forces = forces.at[index].add(jnp.array(pulling_force))\n",
        "        fixed_indices_rows = [index for index in fixed_indices]\n",
        "        forces = forces.at[fixed_indices].set(0.0)\n",
        "\n",
        "        for i in range(num_points):\n",
        "            for j in range(i + 1, num_points):\n",
        "                if adj_matrix[i, j] == 1:\n",
        "                    rest_length = rest_lengths[i, j]\n",
        "                    force = spring_force(grid[i], grid[j], rest_length, k_spring)\n",
        "                    forces = forces.at[i].add(force)\n",
        "                    forces = forces.at[j].add(-force)\n",
        "\n",
        "        for i in range(num_points):\n",
        "            neighbors = jnp.where(adj_matrix[i] == 1)[0]\n",
        "            for j in range(len(neighbors)):\n",
        "                    for k in range(j + 1, len(neighbors)):\n",
        "                        neighbor1 = neighbors[j]\n",
        "                        neighbor2 = neighbors[k]\n",
        "                        # Convert JAX arrays to tuples before using them as keys\n",
        "                        rest_angle = rest_angles[tuple(np.array((i, neighbor1, neighbor2)))]\n",
        "                        angle_force = angular_spring_force(grid[neighbor1], grid[i], grid[neighbor2], rest_angle, k_angle)\n",
        "                        forces = forces.at[i].add(angle_force)\n",
        "\n",
        "\n",
        "\n",
        "        grid = grid + dt * forces\n",
        "\n",
        "    return grid\n"
      ]
    },
    {
      "cell_type": "code",
      "source": [
        "num_points = 5  # Number of points in each column\n",
        "x_fixed_even = 0  # x-coordinate for evenly spaced points\n",
        "y_min, y_max = 0, 100  # Range for y-coordinates\n",
        "even_y_values = np.linspace(y_min, y_max, num_points)\n",
        "pull = [(x_fixed_even, y) for y in even_y_values]\n",
        "hold = [(100, y) for y in even_y_values]\n",
        "hold = jnp.array(hold)\n",
        "pull = jnp.array(pull)"
      ],
      "metadata": {
        "id": "Eb0HfiPrjbpl"
      },
      "execution_count": null,
      "outputs": []
    },
    {
      "cell_type": "code",
      "source": [
        "def nodesAndAdj(num_positions, x_range, y_range, min_distance, key):\n",
        "  positions = generate_positions_jax(num_positions, x_range, y_range, min_distance, key)\n",
        "  positions = jnp.array(positions)\n",
        "  positions = jnp.concatenate((hold, pull,positions))\n",
        "  adj_matrix = create_triangulation_association_matrix(positions)\n",
        "\n",
        "  return {'nodes': positions, 'adj_matrix': adj_matrix}\n",
        "\n"
      ],
      "metadata": {
        "id": "E5IpIhq-K1jX"
      },
      "execution_count": null,
      "outputs": []
    },
    {
      "cell_type": "code",
      "source": [
        "# Genetic Algorithm\n",
        "class GeneticAlgorithm:\n",
        "    def __init__(self, population_size, mutation_rate, generations):\n",
        "        self.population_size = population_size\n",
        "        self.mutation_rate = mutation_rate\n",
        "        self.generations = generations\n",
        "        self.population = [nodesAndAdj(6, (0, 100), (0, 100), 5, random.PRNGKey(_)) for _ in range(population_size)]\n",
        "        self.number_nodes = 6 + 10\n",
        "\n",
        "    def fitness(self, grid):\n",
        "        # Define the fitness function Poisson ratio)\n",
        "      input_field =jnp.array(grid['nodes'])\n",
        "      input_matrix = jnp.array(grid['adj_matrix'])\n",
        "      distrurbedgrid = update_positions_v3(input_field,input_matrix,jnp.array((0,1,2,3,4)),jnp.array((10,11,12,13,14)),dt=0.1, num_iterations=50, k_spring=0.1, k_angle=0.1, pulling_force=(-1.0, 0.0))\n",
        "\n",
        "      poisson_ratio = calculate_poisson_ratio(grid['nodes'], distrurbedgrid)\n",
        "\n",
        "      if not np.isfinite(poisson_ratio):  # Check if poisson_ratio is finite\n",
        "            return -1e10\n",
        "      return -poisson_ratio\n",
        "\n",
        "    def select_parents(self):\n",
        "        # Select parents based on fitness\n",
        "        fitness_scores = [self.fitness(grid) for grid in self.population]\n",
        "        # Extract fitness values for weights\n",
        "        #weights = [score[1] for score in fitness_scores]\n",
        "        parents = rppy.choices(self.population, weights=fitness_scores, k=2)\n",
        "\n",
        "\n",
        "        return parents\n",
        "\n",
        "    def crossover(self, parent1, parent2,sort_index):\n",
        "        child = copy.deepcopy(parent1)\n",
        "\n",
        "        sorted_nodes_p1 = jnp.array(parent1['nodes'][:sort_index].tolist() + sorted(parent1['nodes'][sort_index:].tolist(), key=lambda x: (x[0], x[1]))) # Convert both to lists and then concatenate\n",
        "        sorted_nodes_p2 = jnp.array(parent2['nodes'][:sort_index].tolist() + sorted(parent2['nodes'][sort_index:].tolist(), key=lambda x: (x[0], x[1]))) # Convert both to lists and then concatenate\n",
        "        '''\n",
        "        for i in range(self.number_nodes):\n",
        "           child['nodes'][i] = (\n",
        "               (sorted_nodes_p1[i][0] + sorted_nodes_p2[i][0]) / 2,\n",
        "                (sorted_nodes_p1[i][1] + sorted_nodes_p2[i][1]) / 2\n",
        "\n",
        "            )\n",
        "        '''\n",
        "        new_nodes = jnp.array([(\n",
        "                (sorted_nodes_p1[i][0] + sorted_nodes_p2[i][0]) / 2,\n",
        "                (sorted_nodes_p1[i][1] + sorted_nodes_p2[i][1]) / 2\n",
        "            ) for i in range(self.number_nodes)])\n",
        "        child['nodes'] = new_nodes\n",
        "\n",
        "\n",
        "\n",
        "        return child\n",
        "\n",
        "    def mutate(self, grid):\n",
        "        # randomly mutate grid with some probability\n",
        "        if rppy.random() < self.mutation_rate:\n",
        "            input_matrix = jnp.array(grid['adj_matrix'])\n",
        "            remove_random_bonds(input_matrix,1)\n",
        "            pass\n",
        "\n",
        "    def evolve(self):\n",
        "        for generation in range(self.generations):\n",
        "            new_population = []\n",
        "            for _ in range(self.population_size):\n",
        "                parent1, parent2 = self.select_parents()\n",
        "                child = self.crossover(parent1, parent2,10)\n",
        "                self.mutate(child)\n",
        "                new_population.append(child)\n",
        "            self.population = new_population\n",
        "\n",
        "            #  best fitness for monitoring\n",
        "            best_fitness = max(self.fitness(grid) for grid in self.population)\n",
        "            print(f\"Generation {generation}, Best Fitness: {best_fitness}\")\n",
        "\n",
        "\n",
        "ga = GeneticAlgorithm(population_size=5, mutation_rate=0.1, generations=5)\n",
        "ga.evolve()"
      ],
      "metadata": {
        "colab": {
          "base_uri": "https://localhost:8080/",
          "height": 394
        },
        "id": "eH3PxkV2l2TX",
        "outputId": "4b0e1bd2-f96f-44ef-a6e2-fea72d2653d8"
      },
      "execution_count": null,
      "outputs": [
        {
          "output_type": "stream",
          "name": "stdout",
          "text": [
            "Generation 0, Best Fitness: 1.1506661176681519\n",
            "Generation 1, Best Fitness: 1.1506661176681519\n",
            "Generation 2, Best Fitness: 1.1506661176681519\n"
          ]
        },
        {
          "output_type": "error",
          "ename": "KeyboardInterrupt",
          "evalue": "",
          "traceback": [
            "\u001b[0;31m---------------------------------------------------------------------------\u001b[0m",
            "\u001b[0;31mKeyboardInterrupt\u001b[0m                         Traceback (most recent call last)",
            "\u001b[0;32m<ipython-input-12-53e87978bb26>\u001b[0m in \u001b[0;36m<cell line: 84>\u001b[0;34m()\u001b[0m\n\u001b[1;32m     82\u001b[0m \u001b[0;31m# Set GA parameters and run\u001b[0m\u001b[0;34m\u001b[0m\u001b[0;34m\u001b[0m\u001b[0m\n\u001b[1;32m     83\u001b[0m \u001b[0mga\u001b[0m \u001b[0;34m=\u001b[0m \u001b[0mGeneticAlgorithm\u001b[0m\u001b[0;34m(\u001b[0m\u001b[0mpopulation_size\u001b[0m\u001b[0;34m=\u001b[0m\u001b[0;36m5\u001b[0m\u001b[0;34m,\u001b[0m \u001b[0mmutation_rate\u001b[0m\u001b[0;34m=\u001b[0m\u001b[0;36m0.1\u001b[0m\u001b[0;34m,\u001b[0m \u001b[0mgenerations\u001b[0m\u001b[0;34m=\u001b[0m\u001b[0;36m5\u001b[0m\u001b[0;34m)\u001b[0m\u001b[0;34m\u001b[0m\u001b[0;34m\u001b[0m\u001b[0m\n\u001b[0;32m---> 84\u001b[0;31m \u001b[0mga\u001b[0m\u001b[0;34m.\u001b[0m\u001b[0mevolve\u001b[0m\u001b[0;34m(\u001b[0m\u001b[0;34m)\u001b[0m\u001b[0;34m\u001b[0m\u001b[0;34m\u001b[0m\u001b[0m\n\u001b[0m",
            "\u001b[0;32m<ipython-input-12-53e87978bb26>\u001b[0m in \u001b[0;36mevolve\u001b[0;34m(self)\u001b[0m\n\u001b[1;32m     70\u001b[0m             \u001b[0mnew_population\u001b[0m \u001b[0;34m=\u001b[0m \u001b[0;34m[\u001b[0m\u001b[0;34m]\u001b[0m\u001b[0;34m\u001b[0m\u001b[0;34m\u001b[0m\u001b[0m\n\u001b[1;32m     71\u001b[0m             \u001b[0;32mfor\u001b[0m \u001b[0m_\u001b[0m \u001b[0;32min\u001b[0m \u001b[0mrange\u001b[0m\u001b[0;34m(\u001b[0m\u001b[0mself\u001b[0m\u001b[0;34m.\u001b[0m\u001b[0mpopulation_size\u001b[0m\u001b[0;34m)\u001b[0m\u001b[0;34m:\u001b[0m\u001b[0;34m\u001b[0m\u001b[0;34m\u001b[0m\u001b[0m\n\u001b[0;32m---> 72\u001b[0;31m                 \u001b[0mparent1\u001b[0m\u001b[0;34m,\u001b[0m \u001b[0mparent2\u001b[0m \u001b[0;34m=\u001b[0m \u001b[0mself\u001b[0m\u001b[0;34m.\u001b[0m\u001b[0mselect_parents\u001b[0m\u001b[0;34m(\u001b[0m\u001b[0;34m)\u001b[0m\u001b[0;34m\u001b[0m\u001b[0;34m\u001b[0m\u001b[0m\n\u001b[0m\u001b[1;32m     73\u001b[0m                 \u001b[0mchild\u001b[0m \u001b[0;34m=\u001b[0m \u001b[0mself\u001b[0m\u001b[0;34m.\u001b[0m\u001b[0mcrossover\u001b[0m\u001b[0;34m(\u001b[0m\u001b[0mparent1\u001b[0m\u001b[0;34m,\u001b[0m \u001b[0mparent2\u001b[0m\u001b[0;34m,\u001b[0m\u001b[0;36m10\u001b[0m\u001b[0;34m)\u001b[0m\u001b[0;34m\u001b[0m\u001b[0;34m\u001b[0m\u001b[0m\n\u001b[1;32m     74\u001b[0m                 \u001b[0mself\u001b[0m\u001b[0;34m.\u001b[0m\u001b[0mmutate\u001b[0m\u001b[0;34m(\u001b[0m\u001b[0mchild\u001b[0m\u001b[0;34m)\u001b[0m\u001b[0;34m\u001b[0m\u001b[0;34m\u001b[0m\u001b[0m\n",
            "\u001b[0;32m<ipython-input-12-53e87978bb26>\u001b[0m in \u001b[0;36mselect_parents\u001b[0;34m(self)\u001b[0m\n\u001b[1;32m     23\u001b[0m     \u001b[0;32mdef\u001b[0m \u001b[0mselect_parents\u001b[0m\u001b[0;34m(\u001b[0m\u001b[0mself\u001b[0m\u001b[0;34m)\u001b[0m\u001b[0;34m:\u001b[0m\u001b[0;34m\u001b[0m\u001b[0;34m\u001b[0m\u001b[0m\n\u001b[1;32m     24\u001b[0m         \u001b[0;31m# Select parents based on fitness\u001b[0m\u001b[0;34m\u001b[0m\u001b[0;34m\u001b[0m\u001b[0m\n\u001b[0;32m---> 25\u001b[0;31m         \u001b[0mfitness_scores\u001b[0m \u001b[0;34m=\u001b[0m \u001b[0;34m[\u001b[0m\u001b[0mself\u001b[0m\u001b[0;34m.\u001b[0m\u001b[0mfitness\u001b[0m\u001b[0;34m(\u001b[0m\u001b[0mgrid\u001b[0m\u001b[0;34m)\u001b[0m \u001b[0;32mfor\u001b[0m \u001b[0mgrid\u001b[0m \u001b[0;32min\u001b[0m \u001b[0mself\u001b[0m\u001b[0;34m.\u001b[0m\u001b[0mpopulation\u001b[0m\u001b[0;34m]\u001b[0m\u001b[0;34m\u001b[0m\u001b[0;34m\u001b[0m\u001b[0m\n\u001b[0m\u001b[1;32m     26\u001b[0m         \u001b[0;31m# Extract fitness values for weights\u001b[0m\u001b[0;34m\u001b[0m\u001b[0;34m\u001b[0m\u001b[0m\n\u001b[1;32m     27\u001b[0m         \u001b[0;31m#weights = [score[1] for score in fitness_scores]\u001b[0m\u001b[0;34m\u001b[0m\u001b[0;34m\u001b[0m\u001b[0m\n",
            "\u001b[0;32m<ipython-input-12-53e87978bb26>\u001b[0m in \u001b[0;36m<listcomp>\u001b[0;34m(.0)\u001b[0m\n\u001b[1;32m     23\u001b[0m     \u001b[0;32mdef\u001b[0m \u001b[0mselect_parents\u001b[0m\u001b[0;34m(\u001b[0m\u001b[0mself\u001b[0m\u001b[0;34m)\u001b[0m\u001b[0;34m:\u001b[0m\u001b[0;34m\u001b[0m\u001b[0;34m\u001b[0m\u001b[0m\n\u001b[1;32m     24\u001b[0m         \u001b[0;31m# Select parents based on fitness\u001b[0m\u001b[0;34m\u001b[0m\u001b[0;34m\u001b[0m\u001b[0m\n\u001b[0;32m---> 25\u001b[0;31m         \u001b[0mfitness_scores\u001b[0m \u001b[0;34m=\u001b[0m \u001b[0;34m[\u001b[0m\u001b[0mself\u001b[0m\u001b[0;34m.\u001b[0m\u001b[0mfitness\u001b[0m\u001b[0;34m(\u001b[0m\u001b[0mgrid\u001b[0m\u001b[0;34m)\u001b[0m \u001b[0;32mfor\u001b[0m \u001b[0mgrid\u001b[0m \u001b[0;32min\u001b[0m \u001b[0mself\u001b[0m\u001b[0;34m.\u001b[0m\u001b[0mpopulation\u001b[0m\u001b[0;34m]\u001b[0m\u001b[0;34m\u001b[0m\u001b[0;34m\u001b[0m\u001b[0m\n\u001b[0m\u001b[1;32m     26\u001b[0m         \u001b[0;31m# Extract fitness values for weights\u001b[0m\u001b[0;34m\u001b[0m\u001b[0;34m\u001b[0m\u001b[0m\n\u001b[1;32m     27\u001b[0m         \u001b[0;31m#weights = [score[1] for score in fitness_scores]\u001b[0m\u001b[0;34m\u001b[0m\u001b[0;34m\u001b[0m\u001b[0m\n",
            "\u001b[0;32m<ipython-input-12-53e87978bb26>\u001b[0m in \u001b[0;36mfitness\u001b[0;34m(self, grid)\u001b[0m\n\u001b[1;32m     13\u001b[0m       \u001b[0minput_field\u001b[0m \u001b[0;34m=\u001b[0m\u001b[0mjnp\u001b[0m\u001b[0;34m.\u001b[0m\u001b[0marray\u001b[0m\u001b[0;34m(\u001b[0m\u001b[0mgrid\u001b[0m\u001b[0;34m[\u001b[0m\u001b[0;34m'nodes'\u001b[0m\u001b[0;34m]\u001b[0m\u001b[0;34m)\u001b[0m\u001b[0;34m\u001b[0m\u001b[0;34m\u001b[0m\u001b[0m\n\u001b[1;32m     14\u001b[0m       \u001b[0minput_matrix\u001b[0m \u001b[0;34m=\u001b[0m \u001b[0mjnp\u001b[0m\u001b[0;34m.\u001b[0m\u001b[0marray\u001b[0m\u001b[0;34m(\u001b[0m\u001b[0mgrid\u001b[0m\u001b[0;34m[\u001b[0m\u001b[0;34m'adj_matrix'\u001b[0m\u001b[0;34m]\u001b[0m\u001b[0;34m)\u001b[0m\u001b[0;34m\u001b[0m\u001b[0;34m\u001b[0m\u001b[0m\n\u001b[0;32m---> 15\u001b[0;31m       \u001b[0mdistrurbedgrid\u001b[0m \u001b[0;34m=\u001b[0m \u001b[0mupdate_positions_v3\u001b[0m\u001b[0;34m(\u001b[0m\u001b[0minput_field\u001b[0m\u001b[0;34m,\u001b[0m\u001b[0minput_matrix\u001b[0m\u001b[0;34m,\u001b[0m\u001b[0mjnp\u001b[0m\u001b[0;34m.\u001b[0m\u001b[0marray\u001b[0m\u001b[0;34m(\u001b[0m\u001b[0;34m(\u001b[0m\u001b[0;36m0\u001b[0m\u001b[0;34m,\u001b[0m\u001b[0;36m1\u001b[0m\u001b[0;34m,\u001b[0m\u001b[0;36m2\u001b[0m\u001b[0;34m,\u001b[0m\u001b[0;36m3\u001b[0m\u001b[0;34m,\u001b[0m\u001b[0;36m4\u001b[0m\u001b[0;34m)\u001b[0m\u001b[0;34m)\u001b[0m\u001b[0;34m,\u001b[0m\u001b[0mjnp\u001b[0m\u001b[0;34m.\u001b[0m\u001b[0marray\u001b[0m\u001b[0;34m(\u001b[0m\u001b[0;34m(\u001b[0m\u001b[0;36m10\u001b[0m\u001b[0;34m,\u001b[0m\u001b[0;36m11\u001b[0m\u001b[0;34m,\u001b[0m\u001b[0;36m12\u001b[0m\u001b[0;34m,\u001b[0m\u001b[0;36m13\u001b[0m\u001b[0;34m,\u001b[0m\u001b[0;36m14\u001b[0m\u001b[0;34m)\u001b[0m\u001b[0;34m)\u001b[0m\u001b[0;34m,\u001b[0m\u001b[0mdt\u001b[0m\u001b[0;34m=\u001b[0m\u001b[0;36m0.1\u001b[0m\u001b[0;34m,\u001b[0m \u001b[0mnum_iterations\u001b[0m\u001b[0;34m=\u001b[0m\u001b[0;36m50\u001b[0m\u001b[0;34m,\u001b[0m \u001b[0mk_spring\u001b[0m\u001b[0;34m=\u001b[0m\u001b[0;36m0.1\u001b[0m\u001b[0;34m,\u001b[0m \u001b[0mk_angle\u001b[0m\u001b[0;34m=\u001b[0m\u001b[0;36m0.1\u001b[0m\u001b[0;34m,\u001b[0m \u001b[0mpulling_force\u001b[0m\u001b[0;34m=\u001b[0m\u001b[0;34m(\u001b[0m\u001b[0;34m-\u001b[0m\u001b[0;36m1.0\u001b[0m\u001b[0;34m,\u001b[0m \u001b[0;36m0.0\u001b[0m\u001b[0;34m)\u001b[0m\u001b[0;34m)\u001b[0m\u001b[0;34m\u001b[0m\u001b[0;34m\u001b[0m\u001b[0m\n\u001b[0m\u001b[1;32m     16\u001b[0m \u001b[0;34m\u001b[0m\u001b[0m\n\u001b[1;32m     17\u001b[0m       \u001b[0mpoisson_ratio\u001b[0m \u001b[0;34m=\u001b[0m \u001b[0mcalculate_poisson_ratio\u001b[0m\u001b[0;34m(\u001b[0m\u001b[0mgrid\u001b[0m\u001b[0;34m[\u001b[0m\u001b[0;34m'nodes'\u001b[0m\u001b[0;34m]\u001b[0m\u001b[0;34m,\u001b[0m \u001b[0mdistrurbedgrid\u001b[0m\u001b[0;34m)\u001b[0m\u001b[0;34m\u001b[0m\u001b[0;34m\u001b[0m\u001b[0m\n",
            "\u001b[0;32m<ipython-input-9-1fa4a6471ba1>\u001b[0m in \u001b[0;36mupdate_positions_v3\u001b[0;34m(grid, adj_matrix, fixed_indices, pulling_indices, dt, num_iterations, k_spring, k_angle, pulling_force)\u001b[0m\n\u001b[1;32m     50\u001b[0m                         \u001b[0;31m# Convert JAX arrays to tuples before using them as keys\u001b[0m\u001b[0;34m\u001b[0m\u001b[0;34m\u001b[0m\u001b[0m\n\u001b[1;32m     51\u001b[0m                         \u001b[0mrest_angle\u001b[0m \u001b[0;34m=\u001b[0m \u001b[0mrest_angles\u001b[0m\u001b[0;34m[\u001b[0m\u001b[0mtuple\u001b[0m\u001b[0;34m(\u001b[0m\u001b[0mnp\u001b[0m\u001b[0;34m.\u001b[0m\u001b[0marray\u001b[0m\u001b[0;34m(\u001b[0m\u001b[0;34m(\u001b[0m\u001b[0mi\u001b[0m\u001b[0;34m,\u001b[0m \u001b[0mneighbor1\u001b[0m\u001b[0;34m,\u001b[0m \u001b[0mneighbor2\u001b[0m\u001b[0;34m)\u001b[0m\u001b[0;34m)\u001b[0m\u001b[0;34m)\u001b[0m\u001b[0;34m]\u001b[0m\u001b[0;34m\u001b[0m\u001b[0;34m\u001b[0m\u001b[0m\n\u001b[0;32m---> 52\u001b[0;31m                         \u001b[0mangle_force\u001b[0m \u001b[0;34m=\u001b[0m \u001b[0mangular_spring_force\u001b[0m\u001b[0;34m(\u001b[0m\u001b[0mgrid\u001b[0m\u001b[0;34m[\u001b[0m\u001b[0mneighbor1\u001b[0m\u001b[0;34m]\u001b[0m\u001b[0;34m,\u001b[0m \u001b[0mgrid\u001b[0m\u001b[0;34m[\u001b[0m\u001b[0mi\u001b[0m\u001b[0;34m]\u001b[0m\u001b[0;34m,\u001b[0m \u001b[0mgrid\u001b[0m\u001b[0;34m[\u001b[0m\u001b[0mneighbor2\u001b[0m\u001b[0;34m]\u001b[0m\u001b[0;34m,\u001b[0m \u001b[0mrest_angle\u001b[0m\u001b[0;34m,\u001b[0m \u001b[0mk_angle\u001b[0m\u001b[0;34m)\u001b[0m\u001b[0;34m\u001b[0m\u001b[0;34m\u001b[0m\u001b[0m\n\u001b[0m\u001b[1;32m     53\u001b[0m                         \u001b[0mforces\u001b[0m \u001b[0;34m=\u001b[0m \u001b[0mforces\u001b[0m\u001b[0;34m.\u001b[0m\u001b[0mat\u001b[0m\u001b[0;34m[\u001b[0m\u001b[0mi\u001b[0m\u001b[0;34m]\u001b[0m\u001b[0;34m.\u001b[0m\u001b[0madd\u001b[0m\u001b[0;34m(\u001b[0m\u001b[0mangle_force\u001b[0m\u001b[0;34m)\u001b[0m\u001b[0;34m\u001b[0m\u001b[0;34m\u001b[0m\u001b[0m\n\u001b[1;32m     54\u001b[0m \u001b[0;34m\u001b[0m\u001b[0m\n",
            "\u001b[0;32m/usr/local/lib/python3.10/dist-packages/jax/_src/array.py\u001b[0m in \u001b[0;36m__getitem__\u001b[0;34m(self, idx)\u001b[0m\n\u001b[1;32m    353\u001b[0m             out.aval, sharding, [out], committed=False, _skip_checks=True)\n\u001b[1;32m    354\u001b[0m \u001b[0;34m\u001b[0m\u001b[0m\n\u001b[0;32m--> 355\u001b[0;31m     \u001b[0;32mreturn\u001b[0m \u001b[0mlax_numpy\u001b[0m\u001b[0;34m.\u001b[0m\u001b[0m_rewriting_take\u001b[0m\u001b[0;34m(\u001b[0m\u001b[0mself\u001b[0m\u001b[0;34m,\u001b[0m \u001b[0midx\u001b[0m\u001b[0;34m)\u001b[0m\u001b[0;34m\u001b[0m\u001b[0;34m\u001b[0m\u001b[0m\n\u001b[0m\u001b[1;32m    356\u001b[0m \u001b[0;34m\u001b[0m\u001b[0m\n\u001b[1;32m    357\u001b[0m   \u001b[0;32mdef\u001b[0m \u001b[0m__iter__\u001b[0m\u001b[0;34m(\u001b[0m\u001b[0mself\u001b[0m\u001b[0;34m)\u001b[0m\u001b[0;34m:\u001b[0m\u001b[0;34m\u001b[0m\u001b[0;34m\u001b[0m\u001b[0m\n",
            "\u001b[0;32m/usr/local/lib/python3.10/dist-packages/jax/_src/numpy/lax_numpy.py\u001b[0m in \u001b[0;36m_rewriting_take\u001b[0;34m(arr, idx, indices_are_sorted, unique_indices, mode, fill_value)\u001b[0m\n\u001b[1;32m   8936\u001b[0m   \u001b[0;31m# simplest cases: i.e. non-dynamic arrays indexed with integers and slices.\u001b[0m\u001b[0;34m\u001b[0m\u001b[0;34m\u001b[0m\u001b[0m\n\u001b[1;32m   8937\u001b[0m \u001b[0;34m\u001b[0m\u001b[0m\n\u001b[0;32m-> 8938\u001b[0;31m   \u001b[0;32mif\u001b[0m \u001b[0;34m(\u001b[0m\u001b[0mresult\u001b[0m \u001b[0;34m:=\u001b[0m \u001b[0m_attempt_rewriting_take_via_slice\u001b[0m\u001b[0;34m(\u001b[0m\u001b[0marr\u001b[0m\u001b[0;34m,\u001b[0m \u001b[0midx\u001b[0m\u001b[0;34m,\u001b[0m \u001b[0mmode\u001b[0m\u001b[0;34m)\u001b[0m\u001b[0;34m)\u001b[0m \u001b[0;32mis\u001b[0m \u001b[0;32mnot\u001b[0m \u001b[0;32mNone\u001b[0m\u001b[0;34m:\u001b[0m\u001b[0;34m\u001b[0m\u001b[0;34m\u001b[0m\u001b[0m\n\u001b[0m\u001b[1;32m   8939\u001b[0m     \u001b[0;32mreturn\u001b[0m \u001b[0mresult\u001b[0m\u001b[0;34m\u001b[0m\u001b[0;34m\u001b[0m\u001b[0m\n\u001b[1;32m   8940\u001b[0m \u001b[0;34m\u001b[0m\u001b[0m\n",
            "\u001b[0;32m/usr/local/lib/python3.10/dist-packages/jax/_src/numpy/lax_numpy.py\u001b[0m in \u001b[0;36m_attempt_rewriting_take_via_slice\u001b[0;34m(arr, idx, mode)\u001b[0m\n\u001b[1;32m   8920\u001b[0m     \u001b[0;32mif\u001b[0m \u001b[0mlen\u001b[0m\u001b[0;34m(\u001b[0m\u001b[0mstart_indices\u001b[0m\u001b[0;34m)\u001b[0m \u001b[0;34m>\u001b[0m \u001b[0;36m1\u001b[0m\u001b[0;34m:\u001b[0m\u001b[0;34m\u001b[0m\u001b[0;34m\u001b[0m\u001b[0m\n\u001b[1;32m   8921\u001b[0m       \u001b[0mstart_indices\u001b[0m \u001b[0;34m=\u001b[0m \u001b[0mutil\u001b[0m\u001b[0;34m.\u001b[0m\u001b[0mpromote_dtypes\u001b[0m\u001b[0;34m(\u001b[0m\u001b[0;34m*\u001b[0m\u001b[0mstart_indices\u001b[0m\u001b[0;34m)\u001b[0m\u001b[0;34m\u001b[0m\u001b[0;34m\u001b[0m\u001b[0m\n\u001b[0;32m-> 8922\u001b[0;31m     arr = lax.dynamic_slice(\n\u001b[0m\u001b[1;32m   8923\u001b[0m         arr, start_indices=start_indices, slice_sizes=slice_sizes)\n\u001b[1;32m   8924\u001b[0m   \u001b[0;32mif\u001b[0m \u001b[0mint_indices\u001b[0m\u001b[0;34m:\u001b[0m\u001b[0;34m\u001b[0m\u001b[0;34m\u001b[0m\u001b[0m\n",
            "\u001b[0;32m/usr/local/lib/python3.10/dist-packages/jax/_src/lax/slicing.py\u001b[0m in \u001b[0;36mdynamic_slice\u001b[0;34m(operand, start_indices, slice_sizes)\u001b[0m\n\u001b[1;32m    158\u001b[0m     \u001b[0;34m-\u001b[0m \u001b[0;34m:\u001b[0m\u001b[0mfunc\u001b[0m\u001b[0;34m:\u001b[0m\u001b[0;31m`\u001b[0m\u001b[0mjax\u001b[0m\u001b[0;34m.\u001b[0m\u001b[0mlax\u001b[0m\u001b[0;34m.\u001b[0m\u001b[0mdynamic_index_in_dim\u001b[0m\u001b[0;31m`\u001b[0m\u001b[0;34m\u001b[0m\u001b[0;34m\u001b[0m\u001b[0m\n\u001b[1;32m    159\u001b[0m   \"\"\"\n\u001b[0;32m--> 160\u001b[0;31m   \u001b[0mstart_indices\u001b[0m \u001b[0;34m=\u001b[0m \u001b[0m_dynamic_slice_indices\u001b[0m\u001b[0;34m(\u001b[0m\u001b[0moperand\u001b[0m\u001b[0;34m,\u001b[0m \u001b[0mstart_indices\u001b[0m\u001b[0;34m)\u001b[0m\u001b[0;34m\u001b[0m\u001b[0;34m\u001b[0m\u001b[0m\n\u001b[0m\u001b[1;32m    161\u001b[0m   \u001b[0;32mif\u001b[0m \u001b[0mconfig\u001b[0m\u001b[0;34m.\u001b[0m\u001b[0mdynamic_shapes\u001b[0m\u001b[0;34m.\u001b[0m\u001b[0mvalue\u001b[0m\u001b[0;34m:\u001b[0m\u001b[0;34m\u001b[0m\u001b[0;34m\u001b[0m\u001b[0m\n\u001b[1;32m    162\u001b[0m     \u001b[0mdynamic_sizes\u001b[0m\u001b[0;34m,\u001b[0m \u001b[0mstatic_sizes\u001b[0m \u001b[0;34m=\u001b[0m \u001b[0mlax\u001b[0m\u001b[0;34m.\u001b[0m\u001b[0m_extract_tracers_dyn_shape\u001b[0m\u001b[0;34m(\u001b[0m\u001b[0mslice_sizes\u001b[0m\u001b[0;34m)\u001b[0m\u001b[0;34m\u001b[0m\u001b[0;34m\u001b[0m\u001b[0m\n",
            "\u001b[0;32m/usr/local/lib/python3.10/dist-packages/jax/_src/lax/slicing.py\u001b[0m in \u001b[0;36m_dynamic_slice_indices\u001b[0;34m(operand, start_indices)\u001b[0m\n\u001b[1;32m   2605\u001b[0m       \u001b[0;32mcontinue\u001b[0m\u001b[0;34m\u001b[0m\u001b[0;34m\u001b[0m\u001b[0m\n\u001b[1;32m   2606\u001b[0m     \u001b[0md_arr\u001b[0m \u001b[0;34m=\u001b[0m \u001b[0mlax\u001b[0m\u001b[0;34m.\u001b[0m\u001b[0mconvert_element_type\u001b[0m\u001b[0;34m(\u001b[0m\u001b[0md\u001b[0m\u001b[0;34m,\u001b[0m \u001b[0m_dtype\u001b[0m\u001b[0;34m(\u001b[0m\u001b[0mi\u001b[0m\u001b[0;34m)\u001b[0m\u001b[0;34m)\u001b[0m\u001b[0;34m\u001b[0m\u001b[0;34m\u001b[0m\u001b[0m\n\u001b[0;32m-> 2607\u001b[0;31m     \u001b[0mresult\u001b[0m\u001b[0;34m.\u001b[0m\u001b[0mappend\u001b[0m\u001b[0;34m(\u001b[0m\u001b[0mlax\u001b[0m\u001b[0;34m.\u001b[0m\u001b[0mselect\u001b[0m\u001b[0;34m(\u001b[0m\u001b[0mi\u001b[0m \u001b[0;34m<\u001b[0m \u001b[0;36m0\u001b[0m\u001b[0;34m,\u001b[0m \u001b[0mi\u001b[0m \u001b[0;34m+\u001b[0m \u001b[0md_arr\u001b[0m\u001b[0;34m,\u001b[0m \u001b[0mi\u001b[0m\u001b[0;34m)\u001b[0m\u001b[0;34m)\u001b[0m\u001b[0;34m\u001b[0m\u001b[0;34m\u001b[0m\u001b[0m\n\u001b[0m\u001b[1;32m   2608\u001b[0m   \u001b[0;32mreturn\u001b[0m \u001b[0mresult\u001b[0m\u001b[0;34m\u001b[0m\u001b[0;34m\u001b[0m\u001b[0m\n",
            "\u001b[0;32m/usr/local/lib/python3.10/dist-packages/jax/_src/numpy/array_methods.py\u001b[0m in \u001b[0;36mdeferring_binary_op\u001b[0;34m(self, other)\u001b[0m\n\u001b[1;32m    571\u001b[0m     \u001b[0margs\u001b[0m \u001b[0;34m=\u001b[0m \u001b[0;34m(\u001b[0m\u001b[0mother\u001b[0m\u001b[0;34m,\u001b[0m \u001b[0mself\u001b[0m\u001b[0;34m)\u001b[0m \u001b[0;32mif\u001b[0m \u001b[0mswap\u001b[0m \u001b[0;32melse\u001b[0m \u001b[0;34m(\u001b[0m\u001b[0mself\u001b[0m\u001b[0;34m,\u001b[0m \u001b[0mother\u001b[0m\u001b[0;34m)\u001b[0m\u001b[0;34m\u001b[0m\u001b[0;34m\u001b[0m\u001b[0m\n\u001b[1;32m    572\u001b[0m     \u001b[0;32mif\u001b[0m \u001b[0misinstance\u001b[0m\u001b[0;34m(\u001b[0m\u001b[0mother\u001b[0m\u001b[0;34m,\u001b[0m \u001b[0m_accepted_binop_types\u001b[0m\u001b[0;34m)\u001b[0m\u001b[0;34m:\u001b[0m\u001b[0;34m\u001b[0m\u001b[0;34m\u001b[0m\u001b[0m\n\u001b[0;32m--> 573\u001b[0;31m       \u001b[0;32mreturn\u001b[0m \u001b[0mbinary_op\u001b[0m\u001b[0;34m(\u001b[0m\u001b[0;34m*\u001b[0m\u001b[0margs\u001b[0m\u001b[0;34m)\u001b[0m\u001b[0;34m\u001b[0m\u001b[0;34m\u001b[0m\u001b[0m\n\u001b[0m\u001b[1;32m    574\u001b[0m     \u001b[0;31m# Note: don't use isinstance here, because we don't want to raise for\u001b[0m\u001b[0;34m\u001b[0m\u001b[0;34m\u001b[0m\u001b[0m\n\u001b[1;32m    575\u001b[0m     \u001b[0;31m# subclasses, e.g. NamedTuple objects that may override operators.\u001b[0m\u001b[0;34m\u001b[0m\u001b[0;34m\u001b[0m\u001b[0m\n",
            "\u001b[0;31mKeyboardInterrupt\u001b[0m: "
          ]
        }
      ]
    }
  ]
}